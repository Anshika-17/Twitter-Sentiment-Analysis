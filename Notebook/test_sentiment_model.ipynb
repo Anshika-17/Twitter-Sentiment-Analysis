{
 "cells": [
  {
   "cell_type": "code",
   "execution_count": null,
   "metadata": {
    "vscode": {
     "languageId": "plaintext"
    }
   },
   "outputs": [],
   "source": [
    "# <xaiArtifact artifact_id=\"7fca53d3-eeb9-4e51-9992-096280baf133\" title=\"test_sentiment_model.ipynb\" contentType=\"text/x-python\">\n",
    "# Install required packages\n",
    "!pip install transformers datasets pandas numpy torch scikit-learn\n",
    "\n",
    "import pandas as pd\n",
    "from transformers import RobertaTokenizer, RobertaForSequenceClassification\n",
    "import torch\n",
    "import numpy as np\n",
    "from sklearn.metrics import accuracy_score, f1_score\n",
    "\n",
    "# Load and preprocess test data\n",
    "def load_test_data(file_path):\n",
    "    df = pd.read_csv(file_path)\n",
    "    df = df[df['sentiment'] != 'Irrelevant']\n",
    "    sentiment_map = {'Negative': 0, 'Neutral': 1, 'Positive': 2}\n",
    "    df['label'] = df['sentiment'].map(sentiment_map)\n",
    "    return df\n",
    "\n",
    "# Evaluate model\n",
    "def evaluate_model(test_df, model_path=\"sentiment_model\"):\n",
    "    tokenizer = RobertaTokenizer.from_pretrained(model_path)\n",
    "    model = RobertaForSequenceClassification.from_pretrained(model_path)\n",
    "    \n",
    "    predictions = []\n",
    "    true_labels = []\n",
    "    \n",
    "    for _, row in test_df.iterrows():\n",
    "        inputs = tokenizer(row['Tweet content'], return_tensors=\"pt\", truncation=True, max_length=128)\n",
    "        with torch.no_grad():\n",
    "            logits = model(**inputs).logits\n",
    "        predicted_class = torch.argmax(logits, dim=1).item()\n",
    "        predictions.append(predicted_class)\n",
    "        true_labels.append(row['label'])\n",
    "    \n",
    "    accuracy = accuracy_score(true_labels, predictions)\n",
    "    f1 = f1_score(true_labels, predictions, average='weighted')\n",
    "    \n",
    "    return accuracy, f1\n",
    "\n",
    "# Example usage\n",
    "if __name__ == \"__main__\":\n",
    "    # Load test data (replace with your file path)\n",
    "    test_df = load_test_data(\"test_dataset.csv\")\n",
    "    \n",
    "    # Evaluate model\n",
    "    accuracy, f1 = evaluate_model(test_df)\n",
    "    \n",
    "    print(f\"Test Accuracy: {accuracy:.2%}\")\n",
    "    print(f\"Test F1 Score: {f1:.2%}\")"
   ]
  }
 ],
 "metadata": {
  "language_info": {
   "name": "python"
  }
 },
 "nbformat": 4,
 "nbformat_minor": 2
}
